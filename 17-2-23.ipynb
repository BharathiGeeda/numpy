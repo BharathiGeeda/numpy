{
 "cells": [
  {
   "cell_type": "code",
   "execution_count": 1,
   "id": "d858d316",
   "metadata": {},
   "outputs": [],
   "source": [
    "import numpy as np\n"
   ]
  },
  {
   "cell_type": "code",
   "execution_count": 2,
   "id": "cefa27b1",
   "metadata": {},
   "outputs": [],
   "source": [
    "c = np.arange(10)"
   ]
  },
  {
   "cell_type": "code",
   "execution_count": 3,
   "id": "b49845d2",
   "metadata": {},
   "outputs": [
    {
     "data": {
      "text/plain": [
       "array([0, 1, 2, 3, 4, 5, 6, 7, 8, 9])"
      ]
     },
     "execution_count": 3,
     "metadata": {},
     "output_type": "execute_result"
    }
   ],
   "source": [
    "c"
   ]
  },
  {
   "cell_type": "code",
   "execution_count": 4,
   "id": "5b4165cc",
   "metadata": {},
   "outputs": [],
   "source": [
    "d=np.array([9, 0.9,6,10])"
   ]
  },
  {
   "cell_type": "code",
   "execution_count": 5,
   "id": "a3ce5448",
   "metadata": {},
   "outputs": [
    {
     "data": {
      "text/plain": [
       "array([ 9. ,  0.9,  6. , 10. ])"
      ]
     },
     "execution_count": 5,
     "metadata": {},
     "output_type": "execute_result"
    }
   ],
   "source": [
    "d"
   ]
  },
  {
   "cell_type": "code",
   "execution_count": 6,
   "id": "d3d0bfb4",
   "metadata": {},
   "outputs": [
    {
     "data": {
      "text/plain": [
       "dtype('int32')"
      ]
     },
     "execution_count": 6,
     "metadata": {},
     "output_type": "execute_result"
    }
   ],
   "source": [
    "c.dtype"
   ]
  },
  {
   "cell_type": "code",
   "execution_count": 7,
   "id": "95c8eac4",
   "metadata": {},
   "outputs": [
    {
     "data": {
      "text/plain": [
       "dtype('float64')"
      ]
     },
     "execution_count": 7,
     "metadata": {},
     "output_type": "execute_result"
    }
   ],
   "source": [
    "d.dtype"
   ]
  },
  {
   "cell_type": "code",
   "execution_count": 8,
   "id": "f79840f7",
   "metadata": {},
   "outputs": [],
   "source": [
    "f = np.zeros(10)"
   ]
  },
  {
   "cell_type": "code",
   "execution_count": 9,
   "id": "ff3c1e6a",
   "metadata": {},
   "outputs": [
    {
     "data": {
      "text/plain": [
       "array([0., 0., 0., 0., 0., 0., 0., 0., 0., 0.])"
      ]
     },
     "execution_count": 9,
     "metadata": {},
     "output_type": "execute_result"
    }
   ],
   "source": [
    "f"
   ]
  },
  {
   "cell_type": "code",
   "execution_count": 10,
   "id": "cb4fa2e5",
   "metadata": {},
   "outputs": [
    {
     "ename": "TypeError",
     "evalue": "Cannot interpret '3' as a data type",
     "output_type": "error",
     "traceback": [
      "\u001b[1;31m---------------------------------------------------------------------------\u001b[0m",
      "\u001b[1;31mTypeError\u001b[0m                                 Traceback (most recent call last)",
      "Cell \u001b[1;32mIn[10], line 1\u001b[0m\n\u001b[1;32m----> 1\u001b[0m s \u001b[38;5;241m=\u001b[39m \u001b[43mnp\u001b[49m\u001b[38;5;241;43m.\u001b[39;49m\u001b[43mzeros\u001b[49m\u001b[43m(\u001b[49m\u001b[38;5;241;43m2\u001b[39;49m\u001b[43m,\u001b[49m\u001b[38;5;241;43m3\u001b[39;49m\u001b[43m)\u001b[49m\n",
      "\u001b[1;31mTypeError\u001b[0m: Cannot interpret '3' as a data type"
     ]
    }
   ],
   "source": [
    "s = np.zeros(2,3)"
   ]
  },
  {
   "cell_type": "code",
   "execution_count": 11,
   "id": "314b88a8",
   "metadata": {},
   "outputs": [],
   "source": [
    "b = np.zeros((2,3), dtype = 'float')"
   ]
  },
  {
   "cell_type": "code",
   "execution_count": 12,
   "id": "9b72bbe9",
   "metadata": {},
   "outputs": [
    {
     "data": {
      "text/plain": [
       "array([[0., 0., 0.],\n",
       "       [0., 0., 0.]])"
      ]
     },
     "execution_count": 12,
     "metadata": {},
     "output_type": "execute_result"
    }
   ],
   "source": [
    "b"
   ]
  },
  {
   "cell_type": "code",
   "execution_count": 13,
   "id": "811d5825",
   "metadata": {},
   "outputs": [],
   "source": [
    "e = np.ones((2,3), dtype = 'float')"
   ]
  },
  {
   "cell_type": "code",
   "execution_count": 14,
   "id": "602fb6c8",
   "metadata": {},
   "outputs": [
    {
     "data": {
      "text/plain": [
       "array([[1., 1., 1.],\n",
       "       [1., 1., 1.]])"
      ]
     },
     "execution_count": 14,
     "metadata": {},
     "output_type": "execute_result"
    }
   ],
   "source": [
    "e"
   ]
  },
  {
   "cell_type": "code",
   "execution_count": 15,
   "id": "871af0cf",
   "metadata": {},
   "outputs": [],
   "source": [
    "g = np.full((2),10) #full() is used to print same number as repetaed times for a single array"
   ]
  },
  {
   "cell_type": "code",
   "execution_count": 16,
   "id": "4f4b75fc",
   "metadata": {},
   "outputs": [
    {
     "data": {
      "text/plain": [
       "array([10, 10])"
      ]
     },
     "execution_count": 16,
     "metadata": {},
     "output_type": "execute_result"
    }
   ],
   "source": [
    "g"
   ]
  },
  {
   "cell_type": "code",
   "execution_count": 17,
   "id": "d2492024",
   "metadata": {},
   "outputs": [],
   "source": [
    "h = np.full((3,5),6) #for multidimensional array"
   ]
  },
  {
   "cell_type": "code",
   "execution_count": 18,
   "id": "1e67eab9",
   "metadata": {},
   "outputs": [
    {
     "data": {
      "text/plain": [
       "array([[6, 6, 6, 6, 6],\n",
       "       [6, 6, 6, 6, 6],\n",
       "       [6, 6, 6, 6, 6]])"
      ]
     },
     "execution_count": 18,
     "metadata": {},
     "output_type": "execute_result"
    }
   ],
   "source": [
    "h"
   ]
  },
  {
   "cell_type": "code",
   "execution_count": 19,
   "id": "92d520ca",
   "metadata": {},
   "outputs": [],
   "source": [
    "i = np.arange(0,20,2) #step size "
   ]
  },
  {
   "cell_type": "code",
   "execution_count": 20,
   "id": "318adab2",
   "metadata": {},
   "outputs": [
    {
     "data": {
      "text/plain": [
       "array([ 0,  2,  4,  6,  8, 10, 12, 14, 16, 18])"
      ]
     },
     "execution_count": 20,
     "metadata": {},
     "output_type": "execute_result"
    }
   ],
   "source": [
    "i"
   ]
  },
  {
   "cell_type": "code",
   "execution_count": 21,
   "id": "f779fa9d",
   "metadata": {},
   "outputs": [
    {
     "data": {
      "text/plain": [
       "array([0.        , 0.11111111, 0.22222222, 0.33333333, 0.44444444,\n",
       "       0.55555556, 0.66666667, 0.77777778, 0.88888889, 1.        ])"
      ]
     },
     "execution_count": 21,
     "metadata": {},
     "output_type": "execute_result"
    }
   ],
   "source": [
    "np.linspace(0,1,10) #linspace is used to print range of btw two numbers(0,1) with step parameter(10)."
   ]
  },
  {
   "cell_type": "code",
   "execution_count": 22,
   "id": "13a0bc43",
   "metadata": {},
   "outputs": [
    {
     "data": {
      "text/plain": [
       "array([[0.90507643, 0.74596962, 0.33403102],\n",
       "       [0.438288  , 0.47390977, 0.13241666],\n",
       "       [0.97576631, 0.9316452 , 0.57941155]])"
      ]
     },
     "execution_count": 22,
     "metadata": {},
     "output_type": "execute_result"
    }
   ],
   "source": [
    "np.random.random((3,3)) #random() is used to print random values btw 0 to 1."
   ]
  },
  {
   "cell_type": "code",
   "execution_count": 23,
   "id": "3a34145d",
   "metadata": {},
   "outputs": [
    {
     "data": {
      "text/plain": [
       "array([1, 1])"
      ]
     },
     "execution_count": 23,
     "metadata": {},
     "output_type": "execute_result"
    }
   ],
   "source": [
    "np.random.randint((3,3))"
   ]
  },
  {
   "cell_type": "code",
   "execution_count": 24,
   "id": "33720c61",
   "metadata": {},
   "outputs": [
    {
     "data": {
      "text/plain": [
       "array([[ 3.46455402, -0.53669568, -3.19108446],\n",
       "       [ 0.67266808, -0.17233574,  2.33853292],\n",
       "       [ 1.83792222,  3.18857645, -1.59407397]])"
      ]
     },
     "execution_count": 24,
     "metadata": {},
     "output_type": "execute_result"
    }
   ],
   "source": [
    "np.random.normal(1,2,(3,3)) # normal always gives float values."
   ]
  },
  {
   "cell_type": "code",
   "execution_count": 25,
   "id": "5e6f78ae",
   "metadata": {},
   "outputs": [
    {
     "data": {
      "text/plain": [
       "array([[5, 7, 3],\n",
       "       [5, 8, 3],\n",
       "       [8, 2, 3]])"
      ]
     },
     "execution_count": 25,
     "metadata": {},
     "output_type": "execute_result"
    }
   ],
   "source": [
    "np.random.randint(2,10,(3,3))#randint gives int values."
   ]
  },
  {
   "cell_type": "code",
   "execution_count": 26,
   "id": "5228b2a5",
   "metadata": {},
   "outputs": [
    {
     "data": {
      "text/plain": [
       "array([[1., 0., 0., 0.],\n",
       "       [0., 1., 0., 0.],\n",
       "       [0., 0., 1., 0.],\n",
       "       [0., 0., 0., 1.]])"
      ]
     },
     "execution_count": 26,
     "metadata": {},
     "output_type": "execute_result"
    }
   ],
   "source": [
    "np.eye(4) #identical matrix"
   ]
  },
  {
   "cell_type": "code",
   "execution_count": 27,
   "id": "1203940a",
   "metadata": {},
   "outputs": [
    {
     "data": {
      "text/plain": [
       "array([5.43230922e-312, 7.29112202e-304])"
      ]
     },
     "execution_count": 27,
     "metadata": {},
     "output_type": "execute_result"
    }
   ],
   "source": [
    "np.empty(2) #previously stored values in the existed memory."
   ]
  },
  {
   "cell_type": "code",
   "execution_count": 29,
   "id": "c89aed4f",
   "metadata": {},
   "outputs": [],
   "source": [
    "h = np.arange(4)"
   ]
  },
  {
   "cell_type": "code",
   "execution_count": 30,
   "id": "3e223703",
   "metadata": {},
   "outputs": [
    {
     "data": {
      "text/plain": [
       "array([0, 1, 2, 3])"
      ]
     },
     "execution_count": 30,
     "metadata": {},
     "output_type": "execute_result"
    }
   ],
   "source": [
    "h"
   ]
  },
  {
   "cell_type": "code",
   "execution_count": 31,
   "id": "60285a99",
   "metadata": {},
   "outputs": [
    {
     "data": {
      "text/plain": [
       "array([5, 6, 7, 8])"
      ]
     },
     "execution_count": 31,
     "metadata": {},
     "output_type": "execute_result"
    }
   ],
   "source": [
    "h+5"
   ]
  },
  {
   "cell_type": "code",
   "execution_count": 32,
   "id": "cf24f473",
   "metadata": {},
   "outputs": [
    {
     "data": {
      "text/plain": [
       "array([-5, -4, -3, -2])"
      ]
     },
     "execution_count": 32,
     "metadata": {},
     "output_type": "execute_result"
    }
   ],
   "source": [
    "h-5"
   ]
  },
  {
   "cell_type": "code",
   "execution_count": 33,
   "id": "5618bc2a",
   "metadata": {},
   "outputs": [
    {
     "data": {
      "text/plain": [
       "array([0. , 0.2, 0.4, 0.6])"
      ]
     },
     "execution_count": 33,
     "metadata": {},
     "output_type": "execute_result"
    }
   ],
   "source": [
    "h/5"
   ]
  },
  {
   "cell_type": "code",
   "execution_count": 34,
   "id": "50bd7eb5",
   "metadata": {},
   "outputs": [
    {
     "data": {
      "text/plain": [
       "array([ 0,  5, 10, 15])"
      ]
     },
     "execution_count": 34,
     "metadata": {},
     "output_type": "execute_result"
    }
   ],
   "source": [
    "h*5"
   ]
  },
  {
   "cell_type": "code",
   "execution_count": 35,
   "id": "1eedf4aa",
   "metadata": {},
   "outputs": [
    {
     "data": {
      "text/plain": [
       "array([  0,   1,  32, 243], dtype=int32)"
      ]
     },
     "execution_count": 35,
     "metadata": {},
     "output_type": "execute_result"
    }
   ],
   "source": [
    "h**5"
   ]
  },
  {
   "cell_type": "code",
   "execution_count": 36,
   "id": "2d863547",
   "metadata": {},
   "outputs": [
    {
     "data": {
      "text/plain": [
       "array([0, 0, 0, 0], dtype=int32)"
      ]
     },
     "execution_count": 36,
     "metadata": {},
     "output_type": "execute_result"
    }
   ],
   "source": [
    "h//5"
   ]
  },
  {
   "cell_type": "code",
   "execution_count": 37,
   "id": "b628621c",
   "metadata": {},
   "outputs": [
    {
     "data": {
      "text/plain": [
       "array([0, 1, 2, 3], dtype=int32)"
      ]
     },
     "execution_count": 37,
     "metadata": {},
     "output_type": "execute_result"
    }
   ],
   "source": [
    "h%5"
   ]
  },
  {
   "cell_type": "code",
   "execution_count": 38,
   "id": "df6a83f2",
   "metadata": {},
   "outputs": [],
   "source": [
    "i =np.array([1,2,3,4])"
   ]
  },
  {
   "cell_type": "code",
   "execution_count": 39,
   "id": "7b5b7612",
   "metadata": {},
   "outputs": [
    {
     "data": {
      "text/plain": [
       "array([1, 2, 3, 4])"
      ]
     },
     "execution_count": 39,
     "metadata": {},
     "output_type": "execute_result"
    }
   ],
   "source": [
    "i"
   ]
  },
  {
   "cell_type": "code",
   "execution_count": 40,
   "id": "41796db5",
   "metadata": {},
   "outputs": [
    {
     "data": {
      "text/plain": [
       "array([3, 4, 5, 6])"
      ]
     },
     "execution_count": 40,
     "metadata": {},
     "output_type": "execute_result"
    }
   ],
   "source": [
    "np.add(i,2)"
   ]
  },
  {
   "cell_type": "code",
   "execution_count": 41,
   "id": "d21ee608",
   "metadata": {},
   "outputs": [
    {
     "data": {
      "text/plain": [
       "array([-1,  0,  1,  2])"
      ]
     },
     "execution_count": 41,
     "metadata": {},
     "output_type": "execute_result"
    }
   ],
   "source": [
    "np.subtract(i,2)"
   ]
  },
  {
   "cell_type": "code",
   "execution_count": 42,
   "id": "ae2c41b9",
   "metadata": {},
   "outputs": [
    {
     "data": {
      "text/plain": [
       "array([2, 4, 6, 8])"
      ]
     },
     "execution_count": 42,
     "metadata": {},
     "output_type": "execute_result"
    }
   ],
   "source": [
    "np.multiply(i,2)"
   ]
  },
  {
   "cell_type": "code",
   "execution_count": 43,
   "id": "c61c327d",
   "metadata": {},
   "outputs": [
    {
     "data": {
      "text/plain": [
       "array([0.5, 1. , 1.5, 2. ])"
      ]
     },
     "execution_count": 43,
     "metadata": {},
     "output_type": "execute_result"
    }
   ],
   "source": [
    "np.divide(i,2)"
   ]
  },
  {
   "cell_type": "code",
   "execution_count": 44,
   "id": "ed98c31c",
   "metadata": {},
   "outputs": [
    {
     "data": {
      "text/plain": [
       "array([0, 1, 1, 2], dtype=int32)"
      ]
     },
     "execution_count": 44,
     "metadata": {},
     "output_type": "execute_result"
    }
   ],
   "source": [
    "np.floor_divide(i,2) #quotient will give"
   ]
  },
  {
   "cell_type": "code",
   "execution_count": 45,
   "id": "736366e8",
   "metadata": {},
   "outputs": [
    {
     "data": {
      "text/plain": [
       "array([ 1,  4,  9, 16], dtype=int32)"
      ]
     },
     "execution_count": 45,
     "metadata": {},
     "output_type": "execute_result"
    }
   ],
   "source": [
    "np.power(i,2)"
   ]
  },
  {
   "cell_type": "code",
   "execution_count": 46,
   "id": "ef01e08b",
   "metadata": {},
   "outputs": [
    {
     "data": {
      "text/plain": [
       "array([1, 0, 1, 0], dtype=int32)"
      ]
     },
     "execution_count": 46,
     "metadata": {},
     "output_type": "execute_result"
    }
   ],
   "source": [
    "np.mod(i,2) # % modulus = remainder will give"
   ]
  },
  {
   "cell_type": "code",
   "execution_count": 47,
   "id": "549e166b",
   "metadata": {},
   "outputs": [],
   "source": [
    "j = np.array([-1,2,-3,4,-4])"
   ]
  },
  {
   "cell_type": "code",
   "execution_count": 48,
   "id": "7b13820e",
   "metadata": {},
   "outputs": [
    {
     "data": {
      "text/plain": [
       "array([-1,  2, -3,  4, -4])"
      ]
     },
     "execution_count": 48,
     "metadata": {},
     "output_type": "execute_result"
    }
   ],
   "source": [
    "j"
   ]
  },
  {
   "cell_type": "code",
   "execution_count": 49,
   "id": "8ba07613",
   "metadata": {},
   "outputs": [
    {
     "data": {
      "text/plain": [
       "array([1, 2, 3, 4, 4])"
      ]
     },
     "execution_count": 49,
     "metadata": {},
     "output_type": "execute_result"
    }
   ],
   "source": [
    "abs(j) #absolute(abs) alwqys gives + values."
   ]
  },
  {
   "cell_type": "code",
   "execution_count": 54,
   "id": "75318e5f",
   "metadata": {},
   "outputs": [],
   "source": [
    "k = np.array([3 - 4j, 4 - 3j, 2 + 0j, 0 + 1j])"
   ]
  },
  {
   "cell_type": "code",
   "execution_count": 55,
   "id": "b77a26d3",
   "metadata": {},
   "outputs": [
    {
     "data": {
      "text/plain": [
       "array([3.-4.j, 4.-3.j, 2.+0.j, 0.+1.j])"
      ]
     },
     "execution_count": 55,
     "metadata": {},
     "output_type": "execute_result"
    }
   ],
   "source": [
    "k"
   ]
  },
  {
   "cell_type": "code",
   "execution_count": 56,
   "id": "f630f85f",
   "metadata": {},
   "outputs": [
    {
     "data": {
      "text/plain": [
       "array([5., 5., 2., 1.])"
      ]
     },
     "execution_count": 56,
     "metadata": {},
     "output_type": "execute_result"
    }
   ],
   "source": [
    "abs(k)"
   ]
  },
  {
   "cell_type": "code",
   "execution_count": 57,
   "id": "d88adf4d",
   "metadata": {},
   "outputs": [
    {
     "data": {
      "text/plain": [
       "3.141592653589793"
      ]
     },
     "execution_count": 57,
     "metadata": {},
     "output_type": "execute_result"
    }
   ],
   "source": [
    "np.pi"
   ]
  },
  {
   "cell_type": "code",
   "execution_count": 66,
   "id": "fea12d64",
   "metadata": {},
   "outputs": [],
   "source": [
    "l = np.array([2,5,0,8,4,9,3,1])"
   ]
  },
  {
   "cell_type": "code",
   "execution_count": 67,
   "id": "1a56cfdb",
   "metadata": {},
   "outputs": [
    {
     "data": {
      "text/plain": [
       "array([2, 5, 0, 8, 4, 9, 3, 1])"
      ]
     },
     "execution_count": 67,
     "metadata": {},
     "output_type": "execute_result"
    }
   ],
   "source": [
    "l"
   ]
  },
  {
   "cell_type": "code",
   "execution_count": 72,
   "id": "82082433",
   "metadata": {},
   "outputs": [
    {
     "data": {
      "text/plain": [
       "array([0, 1, 2, 3, 4, 5, 8, 9])"
      ]
     },
     "execution_count": 72,
     "metadata": {},
     "output_type": "execute_result"
    }
   ],
   "source": [
    "np.sort(l)"
   ]
  },
  {
   "cell_type": "code",
   "execution_count": 76,
   "id": "eb4365d6",
   "metadata": {},
   "outputs": [],
   "source": [
    "lst = np.array([1,2,3,4,5,6])"
   ]
  },
  {
   "cell_type": "code",
   "execution_count": 77,
   "id": "2dca9a32",
   "metadata": {},
   "outputs": [
    {
     "data": {
      "text/plain": [
       "array([1, 2, 3, 4, 5, 6])"
      ]
     },
     "execution_count": 77,
     "metadata": {},
     "output_type": "execute_result"
    }
   ],
   "source": [
    "lst"
   ]
  },
  {
   "cell_type": "code",
   "execution_count": 78,
   "id": "0afa5f63",
   "metadata": {},
   "outputs": [
    {
     "data": {
      "text/plain": [
       "3.5"
      ]
     },
     "execution_count": 78,
     "metadata": {},
     "output_type": "execute_result"
    }
   ],
   "source": [
    "lst.mean()"
   ]
  },
  {
   "cell_type": "code",
   "execution_count": 83,
   "id": "26658693",
   "metadata": {},
   "outputs": [
    {
     "data": {
      "text/plain": [
       "6"
      ]
     },
     "execution_count": 83,
     "metadata": {},
     "output_type": "execute_result"
    }
   ],
   "source": [
    "lst.max()"
   ]
  },
  {
   "cell_type": "code",
   "execution_count": 84,
   "id": "fbf2884a",
   "metadata": {},
   "outputs": [
    {
     "data": {
      "text/plain": [
       "1"
      ]
     },
     "execution_count": 84,
     "metadata": {},
     "output_type": "execute_result"
    }
   ],
   "source": [
    "lst.min()"
   ]
  },
  {
   "cell_type": "code",
   "execution_count": 85,
   "id": "67514e1b",
   "metadata": {},
   "outputs": [
    {
     "data": {
      "text/plain": [
       "3.5"
      ]
     },
     "execution_count": 85,
     "metadata": {},
     "output_type": "execute_result"
    }
   ],
   "source": [
    "np.median(lst)"
   ]
  },
  {
   "cell_type": "code",
   "execution_count": 87,
   "id": "3748f04b",
   "metadata": {},
   "outputs": [
    {
     "data": {
      "text/plain": [
       "2.9166666666666665"
      ]
     },
     "execution_count": 87,
     "metadata": {},
     "output_type": "execute_result"
    }
   ],
   "source": [
    "np.var(lst) #variance"
   ]
  },
  {
   "cell_type": "code",
   "execution_count": 90,
   "id": "dae5d997",
   "metadata": {},
   "outputs": [
    {
     "data": {
      "text/plain": [
       "1.707825127659933"
      ]
     },
     "execution_count": 90,
     "metadata": {},
     "output_type": "execute_result"
    }
   ],
   "source": [
    "np.std(lst) #standard deviation"
   ]
  },
  {
   "cell_type": "code",
   "execution_count": 96,
   "id": "9633a2c8",
   "metadata": {},
   "outputs": [
    {
     "data": {
      "text/plain": [
       "21"
      ]
     },
     "execution_count": 96,
     "metadata": {},
     "output_type": "execute_result"
    }
   ],
   "source": [
    "lst.sum()"
   ]
  },
  {
   "cell_type": "code",
   "execution_count": 98,
   "id": "516229ac",
   "metadata": {},
   "outputs": [
    {
     "data": {
      "text/plain": [
       "720"
      ]
     },
     "execution_count": 98,
     "metadata": {},
     "output_type": "execute_result"
    }
   ],
   "source": [
    "np.prod(lst) #product"
   ]
  },
  {
   "cell_type": "code",
   "execution_count": 101,
   "id": "eb0da787",
   "metadata": {},
   "outputs": [],
   "source": [
    "q = np.random.randint(100,size=10)"
   ]
  },
  {
   "cell_type": "code",
   "execution_count": 102,
   "id": "a503aed9",
   "metadata": {},
   "outputs": [
    {
     "data": {
      "text/plain": [
       "array([97, 74, 26, 27,  5, 19, 60, 62, 50, 57])"
      ]
     },
     "execution_count": 102,
     "metadata": {},
     "output_type": "execute_result"
    }
   ],
   "source": [
    "q"
   ]
  },
  {
   "cell_type": "code",
   "execution_count": 103,
   "id": "a4d4cd5d",
   "metadata": {},
   "outputs": [
    {
     "data": {
      "text/plain": [
       "(74, 5, 60)"
      ]
     },
     "execution_count": 103,
     "metadata": {},
     "output_type": "execute_result"
    }
   ],
   "source": [
    "q[1],q[4],q[6]"
   ]
  },
  {
   "cell_type": "code",
   "execution_count": 106,
   "id": "b7de07d4",
   "metadata": {},
   "outputs": [
    {
     "data": {
      "text/plain": [
       "array([74, 27])"
      ]
     },
     "execution_count": 106,
     "metadata": {},
     "output_type": "execute_result"
    }
   ],
   "source": [
    "q[1:4:2] # slicing"
   ]
  },
  {
   "cell_type": "code",
   "execution_count": null,
   "id": "9e883bb2",
   "metadata": {},
   "outputs": [],
   "source": []
  }
 ],
 "metadata": {
  "kernelspec": {
   "display_name": "Python 3 (ipykernel)",
   "language": "python",
   "name": "python3"
  },
  "language_info": {
   "codemirror_mode": {
    "name": "ipython",
    "version": 3
   },
   "file_extension": ".py",
   "mimetype": "text/x-python",
   "name": "python",
   "nbconvert_exporter": "python",
   "pygments_lexer": "ipython3",
   "version": "3.9.8"
  }
 },
 "nbformat": 4,
 "nbformat_minor": 5
}
